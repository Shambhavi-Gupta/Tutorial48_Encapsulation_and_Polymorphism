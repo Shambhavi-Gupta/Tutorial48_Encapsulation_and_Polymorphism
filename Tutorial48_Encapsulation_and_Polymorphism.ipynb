{
  "nbformat": 4,
  "nbformat_minor": 0,
  "metadata": {
    "colab": {
      "name": "Tutorial48_Encapsulation_and_Polymorphism.ipynb",
      "provenance": [],
      "authorship_tag": "ABX9TyNKZ2Ivp+46jEYqQbHDcMVd",
      "include_colab_link": true
    },
    "kernelspec": {
      "name": "python3",
      "display_name": "Python 3"
    }
  },
  "cells": [
    {
      "cell_type": "markdown",
      "metadata": {
        "id": "view-in-github",
        "colab_type": "text"
      },
      "source": [
        "<a href=\"https://colab.research.google.com/github/Shambhavi-Gupta/Tutorial48_Encapsulation_and_Polymorphism/blob/main/Tutorial48_Encapsulation_and_Polymorphism.ipynb\" target=\"_parent\"><img src=\"https://colab.research.google.com/assets/colab-badge.svg\" alt=\"Open In Colab\"/></a>"
      ]
    },
    {
      "cell_type": "code",
      "metadata": {
        "id": "EEOhmlN4LxSx"
      },
      "source": [
        "# class A:\r\n",
        "#     def __init__(self):\r\n",
        "#         self.__one()\r\n",
        "#     def first(self):\r\n",
        "#         print(\"first function\")\r\n",
        "#     def __one(self):\r\n",
        "#         print(\"private function\")\r\n",
        "# fun = A()\r\n",
        "# fun.first()\r\n",
        "# fun.__one()\r\n",
        "\r\n",
        "class mother():\r\n",
        "    def act(self):\r\n",
        "        print(\"dancing\")\r\n",
        "class daughter():\r\n",
        "    def act(self):\r\n",
        "        print(\"Singing\")\r\n",
        "def final(activity):\r\n",
        "    activity.act()\r\n",
        "one = mother()\r\n",
        "two = daughter()\r\n",
        "final(one)\r\n",
        "final(two)"
      ],
      "execution_count": null,
      "outputs": []
    }
  ]
}